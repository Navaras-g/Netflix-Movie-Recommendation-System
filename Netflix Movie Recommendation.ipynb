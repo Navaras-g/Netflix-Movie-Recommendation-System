{
 "cells": [
  {
   "cell_type": "markdown",
   "id": "b4dabeb1",
   "metadata": {},
   "source": [
    "# A Simple Movie Recommendation System Logic\n",
    "\n",
    "### Tasks\n",
    "\n",
    "- Load the dataset\n",
    "- Clean the dataset and remove missing values\n",
    "- Change genre strings into vectors using TF-IDF Vectorizer\n",
    "- Compare movies using genre codes\n",
    "- Create recommendation function and show it through chart"
   ]
  },
  {
   "cell_type": "markdown",
   "id": "70876645",
   "metadata": {},
   "source": [
    "### First, we import all necessary libraries and then work with the dataset"
   ]
  },
  {
   "cell_type": "code",
   "execution_count": 1,
   "id": "496169d1",
   "metadata": {},
   "outputs": [],
   "source": [
    "import pandas as pd\n",
    "\n",
    "from sklearn.feature_extraction.text import TfidfVectorizer\n",
    "\n",
    "from sklearn.metrics.pairwise import cosine_similarity\n",
    "\n",
    "import matplotlib.pyplot as plt"
   ]
  },
  {
   "cell_type": "code",
   "execution_count": 2,
   "id": "256d2656",
   "metadata": {},
   "outputs": [
    {
     "data": {
      "text/html": [
       "<div>\n",
       "<style scoped>\n",
       "    .dataframe tbody tr th:only-of-type {\n",
       "        vertical-align: middle;\n",
       "    }\n",
       "\n",
       "    .dataframe tbody tr th {\n",
       "        vertical-align: top;\n",
       "    }\n",
       "\n",
       "    .dataframe thead th {\n",
       "        text-align: right;\n",
       "    }\n",
       "</style>\n",
       "<table border=\"1\" class=\"dataframe\">\n",
       "  <thead>\n",
       "    <tr style=\"text-align: right;\">\n",
       "      <th></th>\n",
       "      <th>show_id</th>\n",
       "      <th>type</th>\n",
       "      <th>title</th>\n",
       "      <th>director</th>\n",
       "      <th>cast</th>\n",
       "      <th>country</th>\n",
       "      <th>date_added</th>\n",
       "      <th>release_year</th>\n",
       "      <th>rating</th>\n",
       "      <th>duration</th>\n",
       "      <th>listed_in</th>\n",
       "      <th>description</th>\n",
       "    </tr>\n",
       "  </thead>\n",
       "  <tbody>\n",
       "    <tr>\n",
       "      <th>0</th>\n",
       "      <td>s1</td>\n",
       "      <td>Movie</td>\n",
       "      <td>Dick Johnson Is Dead</td>\n",
       "      <td>Kirsten Johnson</td>\n",
       "      <td>NaN</td>\n",
       "      <td>United States</td>\n",
       "      <td>September 25, 2021</td>\n",
       "      <td>2020</td>\n",
       "      <td>PG-13</td>\n",
       "      <td>90 min</td>\n",
       "      <td>Documentaries</td>\n",
       "      <td>As her father nears the end of his life, filmm...</td>\n",
       "    </tr>\n",
       "    <tr>\n",
       "      <th>1</th>\n",
       "      <td>s2</td>\n",
       "      <td>TV Show</td>\n",
       "      <td>Blood &amp; Water</td>\n",
       "      <td>NaN</td>\n",
       "      <td>Ama Qamata, Khosi Ngema, Gail Mabalane, Thaban...</td>\n",
       "      <td>South Africa</td>\n",
       "      <td>September 24, 2021</td>\n",
       "      <td>2021</td>\n",
       "      <td>TV-MA</td>\n",
       "      <td>2 Seasons</td>\n",
       "      <td>International TV Shows, TV Dramas, TV Mysteries</td>\n",
       "      <td>After crossing paths at a party, a Cape Town t...</td>\n",
       "    </tr>\n",
       "    <tr>\n",
       "      <th>2</th>\n",
       "      <td>s3</td>\n",
       "      <td>TV Show</td>\n",
       "      <td>Ganglands</td>\n",
       "      <td>Julien Leclercq</td>\n",
       "      <td>Sami Bouajila, Tracy Gotoas, Samuel Jouy, Nabi...</td>\n",
       "      <td>NaN</td>\n",
       "      <td>September 24, 2021</td>\n",
       "      <td>2021</td>\n",
       "      <td>TV-MA</td>\n",
       "      <td>1 Season</td>\n",
       "      <td>Crime TV Shows, International TV Shows, TV Act...</td>\n",
       "      <td>To protect his family from a powerful drug lor...</td>\n",
       "    </tr>\n",
       "    <tr>\n",
       "      <th>3</th>\n",
       "      <td>s4</td>\n",
       "      <td>TV Show</td>\n",
       "      <td>Jailbirds New Orleans</td>\n",
       "      <td>NaN</td>\n",
       "      <td>NaN</td>\n",
       "      <td>NaN</td>\n",
       "      <td>September 24, 2021</td>\n",
       "      <td>2021</td>\n",
       "      <td>TV-MA</td>\n",
       "      <td>1 Season</td>\n",
       "      <td>Docuseries, Reality TV</td>\n",
       "      <td>Feuds, flirtations and toilet talk go down amo...</td>\n",
       "    </tr>\n",
       "    <tr>\n",
       "      <th>4</th>\n",
       "      <td>s5</td>\n",
       "      <td>TV Show</td>\n",
       "      <td>Kota Factory</td>\n",
       "      <td>NaN</td>\n",
       "      <td>Mayur More, Jitendra Kumar, Ranjan Raj, Alam K...</td>\n",
       "      <td>India</td>\n",
       "      <td>September 24, 2021</td>\n",
       "      <td>2021</td>\n",
       "      <td>TV-MA</td>\n",
       "      <td>2 Seasons</td>\n",
       "      <td>International TV Shows, Romantic TV Shows, TV ...</td>\n",
       "      <td>In a city of coaching centers known to train I...</td>\n",
       "    </tr>\n",
       "  </tbody>\n",
       "</table>\n",
       "</div>"
      ],
      "text/plain": [
       "  show_id     type                  title         director  \\\n",
       "0      s1    Movie   Dick Johnson Is Dead  Kirsten Johnson   \n",
       "1      s2  TV Show          Blood & Water              NaN   \n",
       "2      s3  TV Show              Ganglands  Julien Leclercq   \n",
       "3      s4  TV Show  Jailbirds New Orleans              NaN   \n",
       "4      s5  TV Show           Kota Factory              NaN   \n",
       "\n",
       "                                                cast        country  \\\n",
       "0                                                NaN  United States   \n",
       "1  Ama Qamata, Khosi Ngema, Gail Mabalane, Thaban...   South Africa   \n",
       "2  Sami Bouajila, Tracy Gotoas, Samuel Jouy, Nabi...            NaN   \n",
       "3                                                NaN            NaN   \n",
       "4  Mayur More, Jitendra Kumar, Ranjan Raj, Alam K...          India   \n",
       "\n",
       "           date_added  release_year rating   duration  \\\n",
       "0  September 25, 2021          2020  PG-13     90 min   \n",
       "1  September 24, 2021          2021  TV-MA  2 Seasons   \n",
       "2  September 24, 2021          2021  TV-MA   1 Season   \n",
       "3  September 24, 2021          2021  TV-MA   1 Season   \n",
       "4  September 24, 2021          2021  TV-MA  2 Seasons   \n",
       "\n",
       "                                           listed_in  \\\n",
       "0                                      Documentaries   \n",
       "1    International TV Shows, TV Dramas, TV Mysteries   \n",
       "2  Crime TV Shows, International TV Shows, TV Act...   \n",
       "3                             Docuseries, Reality TV   \n",
       "4  International TV Shows, Romantic TV Shows, TV ...   \n",
       "\n",
       "                                         description  \n",
       "0  As her father nears the end of his life, filmm...  \n",
       "1  After crossing paths at a party, a Cape Town t...  \n",
       "2  To protect his family from a powerful drug lor...  \n",
       "3  Feuds, flirtations and toilet talk go down amo...  \n",
       "4  In a city of coaching centers known to train I...  "
      ]
     },
     "execution_count": 2,
     "metadata": {},
     "output_type": "execute_result"
    }
   ],
   "source": [
    "# Load the dataset\n",
    "\n",
    "netflix_data = pd.read_csv('netflix_titles.csv')\n",
    "\n",
    "# Display the first few rows to get the gist of the dataset\n",
    "\n",
    "netflix_data.head()"
   ]
  },
  {
   "cell_type": "code",
   "execution_count": 3,
   "id": "a57b8282",
   "metadata": {},
   "outputs": [
    {
     "data": {
      "text/html": [
       "<div>\n",
       "<style scoped>\n",
       "    .dataframe tbody tr th:only-of-type {\n",
       "        vertical-align: middle;\n",
       "    }\n",
       "\n",
       "    .dataframe tbody tr th {\n",
       "        vertical-align: top;\n",
       "    }\n",
       "\n",
       "    .dataframe thead th {\n",
       "        text-align: right;\n",
       "    }\n",
       "</style>\n",
       "<table border=\"1\" class=\"dataframe\">\n",
       "  <thead>\n",
       "    <tr style=\"text-align: right;\">\n",
       "      <th></th>\n",
       "      <th>title</th>\n",
       "      <th>genre_str</th>\n",
       "    </tr>\n",
       "  </thead>\n",
       "  <tbody>\n",
       "    <tr>\n",
       "      <th>0</th>\n",
       "      <td>Dick Johnson Is Dead</td>\n",
       "      <td>Documentaries</td>\n",
       "    </tr>\n",
       "    <tr>\n",
       "      <th>1</th>\n",
       "      <td>Blood &amp; Water</td>\n",
       "      <td>International TV Shows TV Dramas TV Mysteries</td>\n",
       "    </tr>\n",
       "    <tr>\n",
       "      <th>2</th>\n",
       "      <td>Ganglands</td>\n",
       "      <td>Crime TV Shows International TV Shows TV Actio...</td>\n",
       "    </tr>\n",
       "    <tr>\n",
       "      <th>3</th>\n",
       "      <td>Jailbirds New Orleans</td>\n",
       "      <td>Docuseries Reality TV</td>\n",
       "    </tr>\n",
       "    <tr>\n",
       "      <th>4</th>\n",
       "      <td>Kota Factory</td>\n",
       "      <td>International TV Shows Romantic TV Shows TV Co...</td>\n",
       "    </tr>\n",
       "  </tbody>\n",
       "</table>\n",
       "</div>"
      ],
      "text/plain": [
       "                   title                                          genre_str\n",
       "0   Dick Johnson Is Dead                                      Documentaries\n",
       "1          Blood & Water      International TV Shows TV Dramas TV Mysteries\n",
       "2              Ganglands  Crime TV Shows International TV Shows TV Actio...\n",
       "3  Jailbirds New Orleans                              Docuseries Reality TV\n",
       "4           Kota Factory  International TV Shows Romantic TV Shows TV Co..."
      ]
     },
     "execution_count": 3,
     "metadata": {},
     "output_type": "execute_result"
    }
   ],
   "source": [
    "# Drop rows with missing values in 'listed_in' (genres) and 'title'\n",
    "\n",
    "netflix_data = netflix_data.dropna(subset=['listed_in', 'title'])\n",
    "\n",
    "# Combine 'listed_in' (genres) into a single string for each movie\n",
    "\n",
    "netflix_data['genre_str'] = netflix_data['listed_in'].str.replace(',', '').str.split().str.join(' ')\n",
    "\n",
    "# Display the processed data\n",
    "\n",
    "netflix_data[['title', 'genre_str']].head()"
   ]
  },
  {
   "cell_type": "markdown",
   "id": "4d4f681f",
   "metadata": {},
   "source": [
    "### Here we use titles and their genres for this recommendation logic"
   ]
  },
  {
   "cell_type": "code",
   "execution_count": 4,
   "id": "5a48dca1",
   "metadata": {},
   "outputs": [
    {
     "data": {
      "text/plain": [
       "(8807, 44)"
      ]
     },
     "execution_count": 4,
     "metadata": {},
     "output_type": "execute_result"
    }
   ],
   "source": [
    "# Create a TF-IDF Vectorizer to convert genre strings to vectors\n",
    "# It helps in transforming text into numerical values that can be used and processed by ML algorithms.\n",
    "\n",
    "tfidf = TfidfVectorizer(stop_words='english')  # The stop words is used to ignore certain words like 'the' or 'and' \n",
    "\n",
    "# Fit and transform the data\n",
    "\n",
    "tfidf_matrix = tfidf.fit_transform(netflix_data['genre_str'])\n",
    "\n",
    "# Display the shape of the matrix\n",
    "\n",
    "tfidf_matrix.shape"
   ]
  },
  {
   "cell_type": "markdown",
   "id": "a321851c",
   "metadata": {},
   "source": [
    "### Finding Similar Movies using Cosine Similarity\n",
    "\n",
    "- This checks the genre codes for each title and sees how close they are to each other"
   ]
  },
  {
   "cell_type": "code",
   "execution_count": 5,
   "id": "0ba77495",
   "metadata": {},
   "outputs": [
    {
     "data": {
      "text/plain": [
       "(8807, 8807)"
      ]
     },
     "execution_count": 5,
     "metadata": {},
     "output_type": "execute_result"
    }
   ],
   "source": [
    "# Calculate the cosine similarity matrix\n",
    "\n",
    "cosine_s = cosine_similarity(tfidf_matrix, tfidf_matrix)\n",
    "\n",
    "# Display the similarity matrix\n",
    "\n",
    "cosine_s.shape"
   ]
  },
  {
   "cell_type": "markdown",
   "id": "f64e8e2f",
   "metadata": {},
   "source": [
    "### Recommending Movies and Visualizing them"
   ]
  },
  {
   "cell_type": "code",
   "execution_count": 6,
   "id": "4ba2e4cb",
   "metadata": {},
   "outputs": [
    {
     "data": {
      "text/plain": [
       "6102        Agent Raghav\n",
       "5194           The Truth\n",
       "543           Undercover\n",
       "7157               Kaçak\n",
       "2676               Fauda\n",
       "11      Bangkok Breaking\n",
       "4662        Monkey Twins\n",
       "3414              Chosen\n",
       "Name: title, dtype: object"
      ]
     },
     "execution_count": 6,
     "metadata": {},
     "output_type": "execute_result"
    }
   ],
   "source": [
    "# Creates a pandas Series where the index is the movie titles (netflix_data['title']) and the values are the indices of the DataFrame (netflix_data.index).\n",
    "\n",
    "indices = pd.Series(netflix_data.index, index=netflix_data['title']).drop_duplicates() # Ensures that there are no duplicates\n",
    "\n",
    "# Now time to create function that recommends movies using cosine similarity scores.\n",
    "\n",
    "def recommend_movies(title, cosine_s=cosine_s):\n",
    "    \n",
    "    \n",
    "    # Get the index of the movie that matches the title\n",
    "    \n",
    "    idx = indices[title]\n",
    "    \n",
    "    \n",
    "     # Get the similarity scores and sort them\n",
    "        \n",
    "    sim_scores = cosine_s[idx]\n",
    "    \n",
    "    \n",
    "    # Sort indices by similarity scores in descending order\n",
    "    \n",
    "    sorted_indices = sim_scores.argsort()[::-1]  \n",
    "    \n",
    "    \n",
    "    # Get the top 10 most similar movies (excluding the first one, which is the movie itself)\n",
    "    \n",
    "    top_8_indices = sorted_indices[1:9]\n",
    "    \n",
    "    \n",
    "    # Return the titles of the top 8 most similar movies\n",
    "    \n",
    "    return netflix_data['title'].iloc[top_8_indices]\n",
    "\n",
    "\n",
    "# Test the recommendation system with a sample movie\n",
    "\n",
    "recommendations = recommend_movies('Ganglands')\n",
    "\n",
    "recommendations"
   ]
  },
  {
   "cell_type": "code",
   "execution_count": 7,
   "id": "de900d92",
   "metadata": {},
   "outputs": [
    {
     "data": {
      "image/png": "[encoded data removed]",
      "text/plain": [
       "<Figure size 1000x600 with 1 Axes>"
      ]
     },
     "metadata": {},
     "output_type": "display_data"
    }
   ],
   "source": [
    "def visualize_recom(title, recommendations):\n",
    "    \n",
    "    \n",
    "    # Convert recommendations to a list for easier plotting\n",
    "    \n",
    "    recommendations = list(recommendations)\n",
    "    \n",
    "    \n",
    "    # Plot the recommendations\n",
    "    \n",
    "    plt.figure(figsize=(10, 6))\n",
    "    plt.barh(recommendations[::-1], range(1, len(recommendations) + 1), color='powderblue')\n",
    "    plt.xlabel('Similarity Rank')\n",
    "    plt.title(f'Movies similar to \"{title}\"')\n",
    "    plt.gca().invert_yaxis()  # Invert the y-axis to have the highest ranked movie at the top\n",
    "    plt.show()\n",
    "\n",
    "    \n",
    "# Visualize recommendations for a sample movie\n",
    "\n",
    "recommendations = recommend_movies('Ganglands')\n",
    "\n",
    "visualize_recom('Ganglands', recommendations)"
   ]
  },
  {
   "cell_type": "markdown",
   "id": "0759b7da",
   "metadata": {},
   "source": [
    "### Another Example"
   ]
  },
  {
   "cell_type": "code",
   "execution_count": 8,
   "id": "ce5cd427",
   "metadata": {},
   "outputs": [
    {
     "data": {
      "text/plain": [
       "4555             The Meaning of Monty Python\n",
       "8278                       The Devil We Know\n",
       "1466            The Minimalists: Less Is Now\n",
       "4543           Monty Python Conquers America\n",
       "462                  This Changes Everything\n",
       "4548       Monty Python: The Meaning of Live\n",
       "7092    Invisible Essence: The Little Prince\n",
       "1911                            Human Nature\n",
       "Name: title, dtype: object"
      ]
     },
     "execution_count": 8,
     "metadata": {},
     "output_type": "execute_result"
    }
   ],
   "source": [
    "recommendations = recommend_movies('Dick Johnson Is Dead')\n",
    "\n",
    "recommendations"
   ]
  },
  {
   "cell_type": "code",
   "execution_count": 10,
   "id": "cbcfcebe",
   "metadata": {},
   "outputs": [
    {
     "data": {
      "image/png": "[encoded data removed]",
      "text/plain": [
       "<Figure size 1000x600 with 1 Axes>"
      ]
     },
     "metadata": {},
     "output_type": "display_data"
    }
   ],
   "source": [
    "# Visualize recommendations for another sample movie\n",
    "\n",
    "recommendations = recommend_movies('Dick Johnson Is Dead')\n",
    "\n",
    "visualize_recom('Dick Johnson Is Dead', recommendations)"
   ]
  },
  {
   "cell_type": "code",
   "execution_count": null,
   "id": "459e53f4",
   "metadata": {},
   "outputs": [],
   "source": []
  }
 ],
 "metadata": {
  "kernelspec": {
   "display_name": "Python 3 (ipykernel)",
   "language": "python",
   "name": "python3"
  },
  "language_info": {
   "codemirror_mode": {
    "name": "ipython",
    "version": 3
   },
   "file_extension": ".py",
   "mimetype": "text/x-python",
   "name": "python",
   "nbconvert_exporter": "python",
   "pygments_lexer": "ipython3",
   "version": "3.11.5"
  }
 },
 "nbformat": 4,
 "nbformat_minor": 5
}
